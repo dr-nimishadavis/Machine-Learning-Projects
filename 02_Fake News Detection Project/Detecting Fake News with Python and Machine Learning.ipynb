{
 "cells": [
  {
   "cell_type": "markdown",
   "id": "94713e03-6310-4464-876e-f52167325d27",
   "metadata": {},
   "source": [
    "# Detecting Fake News with Python and Machine Learning"
   ]
  },
  {
   "cell_type": "markdown",
   "id": "2797907e-bb1a-4912-81d0-7ae9ab63619f",
   "metadata": {},
   "source": [
    "Developed by: Nimisha Davis\n",
    "\n",
    "Linkedin : https://www.linkedin.com/in/nimishadavis/"
   ]
  },
  {
   "cell_type": "markdown",
   "id": "f2669094-f272-4b6e-99f7-bd9596482c1a",
   "metadata": {},
   "source": [
    "### What is Fake News?\n",
    "Fake news refers to fabricated or exaggerated information, often spread through social media and other online platforms. It is a form of yellow journalism designed to mislead or manipulate readers, frequently serving political or ideological purposes. These news items often contain false or distorted claims, and their viral nature is amplified by algorithms, creating filter bubbles where users are exposed only to similar content.\n",
    "\n",
    "### What is TfidfVectorizer?\n",
    "The TfidfVectorizer is a tool used to convert textual data into numerical features based on Term Frequency (TF) and Inverse Document Frequency (IDF):\n",
    "\n",
    "TF (Term Frequency): Measures how often a word appears in a document. Words appearing frequently in a document indicate relevance to the context.\n",
    "IDF (Inverse Document Frequency): Reduces the weight of words that are common across many documents, focusing on terms that are unique and significant to the dataset.\n",
    "This vectorizer transforms raw text into a matrix of TF-IDF features, making it suitable for machine learning models.\n",
    "\n",
    "### What is a PassiveAggressiveClassifier?\n",
    "The Passive Aggressive Classifier is an online learning algorithm that updates its model dynamically:\n",
    "\n",
    "Passive: If the prediction is correct, no changes are made.\n",
    "Aggressive: If there’s a misclassification, the model updates itself to minimize error.\n",
    "This algorithm is particularly efficient for large-scale learning and does not converge like traditional algorithms. Its goal is to make precise updates while minimally altering the weight vector's norm.\n",
    "\n",
    "### Detecting Fake News with Python\n",
    "This project focuses on building a machine learning model to classify news articles as either REAL or FAKE. Using Python and scikit-learn, the workflow includes:\n",
    "\n",
    "Preprocessing the dataset and applying the TfidfVectorizer to extract features.\n",
    "Training a PassiveAggressiveClassifier to distinguish fake news from real news.\n",
    "Evaluating the model’s performance using the accuracy score and confusion matrix.\n",
    "\n",
    "This approach combines advanced Python techniques to address the growing issue of fake news dissemination, offering a practical and scalable solution."
   ]
  },
  {
   "cell_type": "code",
   "execution_count": 126,
   "id": "b5dbd0c3-13f9-4180-81af-bb65bec90f64",
   "metadata": {},
   "outputs": [],
   "source": [
    "import numpy as np\n",
    "import pandas as pd\n",
    "import matplotlib.pyplot as plt\n",
    "import seaborn as sns\n",
    "import itertools\n",
    "from sklearn.model_selection import train_test_split\n",
    "from sklearn.feature_extraction.text import TfidfVectorizer\n",
    "from sklearn.linear_model import PassiveAggressiveClassifier\n",
    "from sklearn.metrics import accuracy_score, confusion_matrix"
   ]
  },
  {
   "cell_type": "markdown",
   "id": "56acaeee-5328-4352-ae49-3ab011082046",
   "metadata": {},
   "source": [
    "### EDA"
   ]
  },
  {
   "cell_type": "code",
   "execution_count": 128,
   "id": "cd4f7ee0-4caa-4bdf-9673-3fb89fd922d8",
   "metadata": {},
   "outputs": [
    {
     "data": {
      "text/html": [
       "<div>\n",
       "<style scoped>\n",
       "    .dataframe tbody tr th:only-of-type {\n",
       "        vertical-align: middle;\n",
       "    }\n",
       "\n",
       "    .dataframe tbody tr th {\n",
       "        vertical-align: top;\n",
       "    }\n",
       "\n",
       "    .dataframe thead th {\n",
       "        text-align: right;\n",
       "    }\n",
       "</style>\n",
       "<table border=\"1\" class=\"dataframe\">\n",
       "  <thead>\n",
       "    <tr style=\"text-align: right;\">\n",
       "      <th></th>\n",
       "      <th>Unnamed: 0</th>\n",
       "      <th>title</th>\n",
       "      <th>text</th>\n",
       "      <th>label</th>\n",
       "    </tr>\n",
       "  </thead>\n",
       "  <tbody>\n",
       "    <tr>\n",
       "      <th>0</th>\n",
       "      <td>8476</td>\n",
       "      <td>You Can Smell Hillary’s Fear</td>\n",
       "      <td>Daniel Greenfield, a Shillman Journalism Fello...</td>\n",
       "      <td>FAKE</td>\n",
       "    </tr>\n",
       "    <tr>\n",
       "      <th>1</th>\n",
       "      <td>10294</td>\n",
       "      <td>Watch The Exact Moment Paul Ryan Committed Pol...</td>\n",
       "      <td>Google Pinterest Digg Linkedin Reddit Stumbleu...</td>\n",
       "      <td>FAKE</td>\n",
       "    </tr>\n",
       "    <tr>\n",
       "      <th>2</th>\n",
       "      <td>3608</td>\n",
       "      <td>Kerry to go to Paris in gesture of sympathy</td>\n",
       "      <td>U.S. Secretary of State John F. Kerry said Mon...</td>\n",
       "      <td>REAL</td>\n",
       "    </tr>\n",
       "    <tr>\n",
       "      <th>3</th>\n",
       "      <td>10142</td>\n",
       "      <td>Bernie supporters on Twitter erupt in anger ag...</td>\n",
       "      <td>— Kaydee King (@KaydeeKing) November 9, 2016 T...</td>\n",
       "      <td>FAKE</td>\n",
       "    </tr>\n",
       "    <tr>\n",
       "      <th>4</th>\n",
       "      <td>875</td>\n",
       "      <td>The Battle of New York: Why This Primary Matters</td>\n",
       "      <td>It's primary day in New York and front-runners...</td>\n",
       "      <td>REAL</td>\n",
       "    </tr>\n",
       "  </tbody>\n",
       "</table>\n",
       "</div>"
      ],
      "text/plain": [
       "   Unnamed: 0                                              title  \\\n",
       "0        8476                       You Can Smell Hillary’s Fear   \n",
       "1       10294  Watch The Exact Moment Paul Ryan Committed Pol...   \n",
       "2        3608        Kerry to go to Paris in gesture of sympathy   \n",
       "3       10142  Bernie supporters on Twitter erupt in anger ag...   \n",
       "4         875   The Battle of New York: Why This Primary Matters   \n",
       "\n",
       "                                                text label  \n",
       "0  Daniel Greenfield, a Shillman Journalism Fello...  FAKE  \n",
       "1  Google Pinterest Digg Linkedin Reddit Stumbleu...  FAKE  \n",
       "2  U.S. Secretary of State John F. Kerry said Mon...  REAL  \n",
       "3  — Kaydee King (@KaydeeKing) November 9, 2016 T...  FAKE  \n",
       "4  It's primary day in New York and front-runners...  REAL  "
      ]
     },
     "execution_count": 128,
     "metadata": {},
     "output_type": "execute_result"
    }
   ],
   "source": [
    "#Read the data\n",
    "df=pd.read_csv('news.csv')\n",
    "df.head()"
   ]
  },
  {
   "cell_type": "code",
   "execution_count": 129,
   "id": "96291eb3-9942-4aea-ae15-45a642468fe2",
   "metadata": {},
   "outputs": [
    {
     "data": {
      "text/plain": [
       "(6335, 4)"
      ]
     },
     "execution_count": 129,
     "metadata": {},
     "output_type": "execute_result"
    }
   ],
   "source": [
    "df.shape"
   ]
  },
  {
   "cell_type": "code",
   "execution_count": 130,
   "id": "faa32d9c-d088-4fb9-a1bb-bfe6dc8b72a5",
   "metadata": {},
   "outputs": [
    {
     "data": {
      "text/plain": [
       "25340"
      ]
     },
     "execution_count": 130,
     "metadata": {},
     "output_type": "execute_result"
    }
   ],
   "source": [
    "df.size"
   ]
  },
  {
   "cell_type": "code",
   "execution_count": 131,
   "id": "839f3e9e-c91c-445e-b262-15b1840cd535",
   "metadata": {},
   "outputs": [
    {
     "data": {
      "text/plain": [
       "0    FAKE\n",
       "1    FAKE\n",
       "2    REAL\n",
       "3    FAKE\n",
       "4    REAL\n",
       "Name: label, dtype: object"
      ]
     },
     "execution_count": 131,
     "metadata": {},
     "output_type": "execute_result"
    }
   ],
   "source": [
    "#Get the labels\n",
    "labels=df.label\n",
    "labels.head()"
   ]
  },
  {
   "cell_type": "code",
   "execution_count": 132,
   "id": "2654d316-a8c2-4386-9f5b-581096a086c6",
   "metadata": {},
   "outputs": [
    {
     "data": {
      "text/plain": [
       "Unnamed: 0    0\n",
       "title         0\n",
       "text          0\n",
       "label         0\n",
       "dtype: int64"
      ]
     },
     "execution_count": 132,
     "metadata": {},
     "output_type": "execute_result"
    }
   ],
   "source": [
    "df.isna().sum()"
   ]
  },
  {
   "cell_type": "code",
   "execution_count": 133,
   "id": "d9056aea-e226-49f6-9d74-0e9c39847605",
   "metadata": {},
   "outputs": [
    {
     "data": {
      "text/plain": [
       "0"
      ]
     },
     "execution_count": 133,
     "metadata": {},
     "output_type": "execute_result"
    }
   ],
   "source": [
    "df.duplicated().sum()"
   ]
  },
  {
   "cell_type": "code",
   "execution_count": 134,
   "id": "ece323aa-0ad7-4209-af78-057ecd4e9050",
   "metadata": {},
   "outputs": [
    {
     "data": {
      "text/plain": [
       "Unnamed: 0     int64\n",
       "title         object\n",
       "text          object\n",
       "label         object\n",
       "dtype: object"
      ]
     },
     "execution_count": 134,
     "metadata": {},
     "output_type": "execute_result"
    }
   ],
   "source": [
    "df.dtypes"
   ]
  },
  {
   "cell_type": "markdown",
   "id": "a905077e-21ec-4bf4-8cb5-28d204bb8494",
   "metadata": {},
   "source": [
    "### Split the dataset"
   ]
  },
  {
   "cell_type": "code",
   "execution_count": 136,
   "id": "ce422608-79f4-41e5-b563-3ebc1e3f1eec",
   "metadata": {},
   "outputs": [],
   "source": [
    "x=df['text']\n",
    "y=labels\n",
    "x_train,x_test,y_train,y_test=train_test_split(x,y, test_size=0.2, random_state=7)\n"
   ]
  },
  {
   "cell_type": "markdown",
   "id": "81c1147c-93e5-46e5-a349-bc4b821f74d9",
   "metadata": {},
   "source": [
    "### TfidfVectorizer"
   ]
  },
  {
   "cell_type": "code",
   "execution_count": 138,
   "id": "0b8d77ad-e919-4449-8bec-b7e91c9bfd5a",
   "metadata": {},
   "outputs": [],
   "source": [
    "#Initialize a TfidfVectorizer\n",
    "tfidf_vectorizer=TfidfVectorizer(stop_words='english', max_df=0.7)\n",
    "\n",
    "#Fit and transform train set, transform test set\n",
    "tfidf_train=tfidf_vectorizer.fit_transform(x_train) \n",
    "tfidf_test=tfidf_vectorizer.transform(x_test)"
   ]
  },
  {
   "cell_type": "markdown",
   "id": "73a726d9-2513-4aee-b25b-351deec8dc62",
   "metadata": {},
   "source": [
    "### PassiveAggressiveClassifier"
   ]
  },
  {
   "cell_type": "code",
   "execution_count": 140,
   "id": "60c3448e-d06a-4775-9977-792a04fcecd6",
   "metadata": {},
   "outputs": [
    {
     "name": "stdout",
     "output_type": "stream",
     "text": [
      "Accuracy: 93.21%\n"
     ]
    }
   ],
   "source": [
    "#Initialize a PassiveAggressiveClassifier\n",
    "pac=PassiveAggressiveClassifier(max_iter=50)\n",
    "pac.fit(tfidf_train,y_train)\n",
    "\n",
    "#Predict on the test set and calculate accuracy\n",
    "y_pred=pac.predict(tfidf_test)\n",
    "score=accuracy_score(y_test,y_pred)\n",
    "print(f'Accuracy: {round(score*100,2)}%')"
   ]
  },
  {
   "cell_type": "code",
   "execution_count": 141,
   "id": "c45a1936-f0d0-44b1-a0eb-d83a5684586a",
   "metadata": {},
   "outputs": [
    {
     "data": {
      "text/plain": [
       "array([[593,  45],\n",
       "       [ 41, 588]], dtype=int64)"
      ]
     },
     "execution_count": 141,
     "metadata": {},
     "output_type": "execute_result"
    }
   ],
   "source": [
    "#Build confusion matrix\n",
    "confusion_matrix(y_test,y_pred, labels=['FAKE','REAL'])"
   ]
  },
  {
   "cell_type": "markdown",
   "id": "4016bebb-5aec-44a9-8288-a38658b0bb02",
   "metadata": {},
   "source": [
    "So with this model, we have 589 true positives, 587 true negatives, 42 false positives, and 49 false negatives."
   ]
  },
  {
   "cell_type": "markdown",
   "id": "5015001f-4023-4ca7-a285-b60c9e833e0f",
   "metadata": {},
   "source": [
    "### Key Metrics : \n",
    "True Positives (TP = 589)\n",
    "\n",
    "These are instances where the model correctly predicted \"Fake News\" when the actual label was \"Fake News.\"\n",
    "\n",
    "True Negatives (TN = 587)\n",
    "\n",
    "These are instances where the model correctly predicted \"Real News\" when the actual label was \"Real News.\"\n",
    "\n",
    "False Positives (FP = 42)\n",
    "\n",
    "These are instances where the model incorrectly predicted \"Fake News,\" but the actual label was \"Real News.\"\n",
    "Type I Error.\n",
    "\n",
    "False Negatives (FN = 49)\n",
    "\n",
    "These are instances where the model incorrectly predicted \"Real News,\" but the actual label was \"Fake News.\"\n",
    "Type II Error.\n"
   ]
  },
  {
   "cell_type": "code",
   "execution_count": 144,
   "id": "8ae85067-45a4-4c4b-a443-c6ac7316e5fb",
   "metadata": {},
   "outputs": [],
   "source": [
    "#END"
   ]
  }
 ],
 "metadata": {
  "kernelspec": {
   "display_name": "Python 3 (ipykernel)",
   "language": "python",
   "name": "python3"
  },
  "language_info": {
   "codemirror_mode": {
    "name": "ipython",
    "version": 3
   },
   "file_extension": ".py",
   "mimetype": "text/x-python",
   "name": "python",
   "nbconvert_exporter": "python",
   "pygments_lexer": "ipython3",
   "version": "3.12.4"
  }
 },
 "nbformat": 4,
 "nbformat_minor": 5
}
